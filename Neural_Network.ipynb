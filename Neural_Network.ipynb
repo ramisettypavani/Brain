{
  "nbformat": 4,
  "nbformat_minor": 0,
  "metadata": {
    "colab": {
      "provenance": [],
      "include_colab_link": true
    },
    "kernelspec": {
      "name": "python3",
      "display_name": "Python 3"
    },
    "language_info": {
      "name": "python"
    }
  },
  "cells": [
    {
      "cell_type": "markdown",
      "metadata": {
        "id": "view-in-github",
        "colab_type": "text"
      },
      "source": [
        "<a href=\"https://colab.research.google.com/github/ramisettypavani/Brain/blob/main/Neural_Network.ipynb\" target=\"_parent\"><img src=\"https://colab.research.google.com/assets/colab-badge.svg\" alt=\"Open In Colab\"/></a>"
      ]
    },
    {
      "cell_type": "code",
      "execution_count": null,
      "metadata": {
        "id": "d2KWIKh01UZw"
      },
      "outputs": [],
      "source": [
        "import numpy as np\n",
        "from sklearn.datasets import load_digits\n",
        "from sklearn.model_selection import train_test_split\n",
        "from sklearn.neural_network import MLPClassifier\n",
        "from sklearn.metrics import confusion_matrix, accuracy_score \n"
      ]
    },
    {
      "cell_type": "code",
      "source": [
        "from google.colab import drive\n",
        "drive.mount('/content/drive')"
      ],
      "metadata": {
        "id": "NzQuDKRwPSv8"
      },
      "execution_count": null,
      "outputs": []
    },
    {
      "cell_type": "code",
      "source": [
        "dataset = load_digits()"
      ],
      "metadata": {
        "id": "txAimwK61VjI"
      },
      "execution_count": null,
      "outputs": []
    },
    {
      "cell_type": "code",
      "source": [
        "x_train, x_test, y_train, y_test = train_test_split(dataset.data, dataset.target, test_size=0.20, random_state=4)"
      ],
      "metadata": {
        "id": "5iThRyPu1ZJX"
      },
      "execution_count": null,
      "outputs": []
    },
    {
      "cell_type": "code",
      "source": [
        "NN = MLPClassifier()"
      ],
      "metadata": {
        "id": "3fhcb-2n1gGm"
      },
      "execution_count": null,
      "outputs": []
    },
    {
      "cell_type": "code",
      "source": [
        "NN.fit(x_train, y_train)"
      ],
      "metadata": {
        "colab": {
          "base_uri": "https://localhost:8080/"
        },
        "id": "uG0byiKX1jTW",
        "outputId": "96f17103-a35e-4085-e260-fcf7ae7f3db9"
      },
      "execution_count": null,
      "outputs": [
        {
          "output_type": "execute_result",
          "data": {
            "text/plain": [
              "MLPClassifier()"
            ]
          },
          "metadata": {},
          "execution_count": 5
        }
      ]
    },
    {
      "cell_type": "code",
      "source": [
        "y_pred = NN.predict(x_test)"
      ],
      "metadata": {
        "id": "aseMPfvb1l0l"
      },
      "execution_count": null,
      "outputs": []
    },
    {
      "cell_type": "code",
      "source": [
        "accuracy = accuracy_score(y_test,y_pred)*100\n",
        "confusion_mat = confusion_matrix(y_test,y_pred)\n"
      ],
      "metadata": {
        "id": "7ditXQ6A1o3F"
      },
      "execution_count": null,
      "outputs": []
    },
    {
      "cell_type": "code",
      "source": [
        "print(\"Accuracy for Neural Network is:\",accuracy)\n",
        "print(\"Confusion Matrix\")\n",
        "print(confusion_mat)\n"
      ],
      "metadata": {
        "colab": {
          "base_uri": "https://localhost:8080/"
        },
        "id": "dN7F1mLm1rpV",
        "outputId": "3074a631-9eb0-4a11-9daf-6d03685708f1"
      },
      "execution_count": null,
      "outputs": [
        {
          "output_type": "stream",
          "name": "stdout",
          "text": [
            "Accuracy for Neural Network is: 98.33333333333333\n",
            "Confusion Matrix\n",
            "[[38  0  0  0  0  0  0  0  0  0]\n",
            " [ 0 32  0  0  0  0  0  0  0  0]\n",
            " [ 0  0 41  0  0  0  0  0  0  0]\n",
            " [ 0  0  0 32  0  1  0  0  0  0]\n",
            " [ 0  1  0  0 36  0  0  0  0  0]\n",
            " [ 0  1  0  0  0 37  0  0  0  0]\n",
            " [ 0  0  0  0  0  0 34  0  1  0]\n",
            " [ 0  0  0  0  0  0  0 38  0  0]\n",
            " [ 0  2  0  0  0  0  0  0 31  0]\n",
            " [ 0  0  0  0  0  0  0  0  0 35]]\n"
          ]
        }
      ]
    },
    {
      "cell_type": "code",
      "source": [],
      "metadata": {
        "id": "ZuqDHl7M1xUU"
      },
      "execution_count": null,
      "outputs": []
    }
  ]
}